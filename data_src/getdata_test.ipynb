{
 "cells": [
  {
   "cell_type": "code",
   "execution_count": 1,
   "id": "4ec61f3a",
   "metadata": {},
   "outputs": [
    {
     "data": {
      "text/plain": [
       "OrderedDict([('instruction', '사용자의 1RM 정보를 바탕으로 기본적인 5/3/1 루틴을 생성하세요.'),\n",
       "             ('input', '난 벤치 150 치는데 이거에 맞는 5/3/1 루틴 짜줘'),\n",
       "             ('output',\n",
       "              ['5/3/1 루틴을 알려드리겠습니다.',\n",
       "               '1주차-1일차:87.5kg X 5',\n",
       "               '1주차-2일차:100.0kg X 5',\n",
       "               '1주차-3일차:115.0kg X 5+',\n",
       "               '2주차-1일차:95.0kg X 3',\n",
       "               '2주차-2일차:107.5kg X 3',\n",
       "               '2주차-3일차:122.5kg X 3+',\n",
       "               '3주차-1일차:100.0kg X 5',\n",
       "               '3주차-2일차:115.0kg X 3',\n",
       "               '3주차-3일차:127.5kg X 1+',\n",
       "               '4주차-deload-1일차:55.0kg X 5',\n",
       "               '4주차-deload-2일차:67.5kg X 5',\n",
       "               '4주차-deload-3일차:80.0kg X 5',\n",
       "               '이대로 운동 하시면 됩니다.'])])"
      ]
     },
     "execution_count": 1,
     "metadata": {},
     "output_type": "execute_result"
    }
   ],
   "source": [
    "from getdata import get_data_531_basic\n",
    "input = \"난 벤치 150 치는데 이거에 맞는 5/3/1 루틴 짜줘\"\n",
    "pa = 'train_json01.json'\n",
    "out1 = '5/3/1 루틴을 알려드리겠습니다.'\n",
    "out2 = '이대로 운동 하시면 됩니다.'\n",
    "routine = get_data_531_basic(prompt = input, rm = 150, path = pa, outment1 = out1, outment2 = out2)\n",
    "routine"
   ]
  },
  {
   "cell_type": "code",
   "execution_count": 2,
   "id": "443286db",
   "metadata": {},
   "outputs": [
    {
     "data": {
      "text/plain": [
       "OrderedDict([('instruction', '사용자의 1RM 정보를 바탕으로 기본적인 5/3/1 루틴을 생성하세요.'),\n",
       "             ('input', '난 벤치 150 치는데 이거에 맞는 5/3/1 루틴 짜줘'),\n",
       "             ('output',\n",
       "              ['5/3/1루틴을 알려드리겠습니다.',\n",
       "               '1주차-1일차:57.5kg X 5',\n",
       "               '1주차-2일차:67.5kg X 5',\n",
       "               '1주차-3일차:77.5kg X 5+',\n",
       "               '1주차-1일차:117.5kg X 5',\n",
       "               '1주차-2일차:135.0kg X 5',\n",
       "               '1주차-3일차:152.5kg X 5+',\n",
       "               '1주차-1일차:87.5kg X 5',\n",
       "               '1주차-2일차:100.0kg X 5',\n",
       "               '1주차-3일차:115.0kg X 5+',\n",
       "               '2주차-1일차:62.5kg X 3',\n",
       "               '2주차-2일차:72.5kg X 3',\n",
       "               '2주차-3일차:80.0kg X 3+',\n",
       "               '2주차-1일차:125.0kg X 3',\n",
       "               '2주차-2일차:145.0kg X 3',\n",
       "               '2주차-3일차:162.5kg X 3+',\n",
       "               '2주차-1일차:95.0kg X 3',\n",
       "               '2주차-2일차:107.5kg X 3',\n",
       "               '2주차-3일차:122.5kg X 3+',\n",
       "               '3주차-1일차:67.5kg X 5',\n",
       "               '3주차-2일차:77.5kg X 3',\n",
       "               '3주차-3일차:85.0kg X 1+',\n",
       "               '3주차-1일차:135.0kg X 5',\n",
       "               '3주차-2일차:152.5kg X 3',\n",
       "               '3주차-3일차:170.0kg X 1+',\n",
       "               '3주차-1일차:100.0kg X 5',\n",
       "               '3주차-2일차:115.0kg X 3',\n",
       "               '3주차-3일차:127.5kg X 1+',\n",
       "               '4주차-deload-1일차:35.0kg X 5',\n",
       "               '4주차-deload-2일차:45.0kg X 5',\n",
       "               '4주차-deload-3일차:55.0kg X 5',\n",
       "               '4주차-deload-1일차:72.5kg X 5',\n",
       "               '4주차-deload-2일차:90.0kg X 5',\n",
       "               '4주차-deload-3일차:107.5kg X 5',\n",
       "               '4주차-deload-1일차:55.0kg X 5',\n",
       "               '4주차-deload-2일차:67.5kg X 5',\n",
       "               '4주차-deload-3일차:80.0kg X 5',\n",
       "               '이대로 운동하세요'])])"
      ]
     },
     "execution_count": 2,
     "metadata": {},
     "output_type": "execute_result"
    }
   ],
   "source": [
    "rms = [100, 200, 150]\n",
    "from getdata import get_data_531_basic\n",
    "input = \"난 벤치 150 치는데 이거에 맞는 5/3/1 루틴 짜줘\"\n",
    "out1 = '5/3/1루틴을 알려드리겠습니다.'\n",
    "out2 = '이대로 운동하세요'\n",
    "routine = get_data_531_basic(input, rms, path = pa, outment1 = out1, outment2 = out2)\n",
    "routine"
   ]
  },
  {
   "cell_type": "code",
   "execution_count": 3,
   "id": "934c6419",
   "metadata": {},
   "outputs": [
    {
     "name": "stdout",
     "output_type": "stream",
     "text": [
      "OrderedDict([('instruction', '사용자의 1RM 정보를 바탕으로 기본적인 5/3/1 루틴을 생성하세요.'), ('input', '난 벤치 150 치는데 이거에 맞는 5/3/1 루틴 짜줘'), ('output', ['5/3/1루틴을 알려드리겠습니다.', '1주차-1일차:57.5kg X 5', '1주차-2일차:67.5kg X 5', '1주차-3일차:77.5kg X 5+', '1주차-1일차:117.5kg X 5', '1주차-2일차:135.0kg X 5', '1주차-3일차:152.5kg X 5+', '1주차-1일차:87.5kg X 5', '1주차-2일차:100.0kg X 5', '1주차-3일차:115.0kg X 5+', '2주차-1일차:62.5kg X 3', '2주차-2일차:72.5kg X 3', '2주차-3일차:80.0kg X 3+', '2주차-1일차:125.0kg X 3', '2주차-2일차:145.0kg X 3', '2주차-3일차:162.5kg X 3+', '2주차-1일차:95.0kg X 3', '2주차-2일차:107.5kg X 3', '2주차-3일차:122.5kg X 3+', '3주차-1일차:67.5kg X 5', '3주차-2일차:77.5kg X 3', '3주차-3일차:85.0kg X 1+', '3주차-1일차:135.0kg X 5', '3주차-2일차:152.5kg X 3', '3주차-3일차:170.0kg X 1+', '3주차-1일차:100.0kg X 5', '3주차-2일차:115.0kg X 3', '3주차-3일차:127.5kg X 1+', '4주차-deload-1일차:35.0kg X 5', '4주차-deload-2일차:45.0kg X 5', '4주차-deload-3일차:55.0kg X 5', '4주차-deload-1일차:72.5kg X 5', '4주차-deload-2일차:90.0kg X 5', '4주차-deload-3일차:107.5kg X 5', '4주차-deload-1일차:55.0kg X 5', '4주차-deload-2일차:67.5kg X 5', '4주차-deload-3일차:80.0kg X 5', '이대로 운동하세요'])])\n"
     ]
    }
   ],
   "source": [
    "print(routine)"
   ]
  },
  {
   "cell_type": "code",
   "execution_count": null,
   "id": "129ff2cf",
   "metadata": {},
   "outputs": [],
   "source": []
  }
 ],
 "metadata": {
  "kernelspec": {
   "display_name": "llm",
   "language": "python",
   "name": "python3"
  },
  "language_info": {
   "codemirror_mode": {
    "name": "ipython",
    "version": 3
   },
   "file_extension": ".py",
   "mimetype": "text/x-python",
   "name": "python",
   "nbconvert_exporter": "python",
   "pygments_lexer": "ipython3",
   "version": "3.11.7"
  }
 },
 "nbformat": 4,
 "nbformat_minor": 5
}
