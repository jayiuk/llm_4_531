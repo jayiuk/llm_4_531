{
 "cells": [
  {
   "cell_type": "code",
   "execution_count": 2,
   "id": "c7957a0c",
   "metadata": {},
   "outputs": [
    {
     "name": "stdout",
     "output_type": "stream",
     "text": [
      "{'input': '난 벤치는 115만큼 치고, 데드는 105만큼 쳐. 스쿼트는 180정도 쳐. 나에게 맞는 5/3/1 루틴을 짜줘', 'output': '5/3/1 루틴을 만들겠겠습니다.\\n1주차-1일차:67.5kg X 5\\n1주차-2일차:77.5kg X 5\\n1주차-3일차:87.5kg X 5+\\n1주차-1일차:62.5kg X 5\\n1주차-2일차:70.0kg X 5\\n1주차-3일차:80.0kg X 5+\\n1주차-1일차:105.0kg X 5\\n1주차-2일차:122.5kg X 5\\n1주차-3일차:137.5kg X 5+\\n2주차-1일차:72.5kg X 3\\n2주차-2일차:82.5kg X 3\\n2주차-3일차:92.5kg X 3+\\n2주차-1일차:65.0kg X 3\\n2주차-2일차:75.0kg X 3\\n2주차-3일차:85.0kg X 3+\\n2주차-1일차:112.5kg X 3\\n2주차-2일차:130.0kg X 3\\n2주차-3일차:145.0kg X 3+\\n3주차-1일차:77.5kg X 5\\n3주차-2일차:87.5kg X 3\\n3주차-3일차:97.5kg X 1+\\n3주차-1일차:70.0kg X 5\\n3주차-2일차:80.0kg X 3\\n3주차-3일차:90.0kg X 1+\\n3주차-1일차:122.5kg X 5\\n3주차-2일차:137.5kg X 3\\n3주차-3일차:155.0kg X 1+\\n4주차-deload-1일차:42.5kg X 5\\n4주차-deload-2일차:52.5kg X 5\\n4주차-deload-3일차:62.5kg X 5\\n4주차-deload-1일차:37.5kg X 5\\n4주차-deload-2일차:47.5kg X 5\\n4주차-deload-3일차:57.5kg X 5\\n4주차-deload-1일차:65.0kg X 5\\n4주차-deload-2일차:80.0kg X 5\\n4주차-deload-3일차:97.5kg X 5\\n루틴 나왔습니다. 요일은 자유롭게 결정하세요. 하지만 중간에 쉬는 날은 꼭 넣어주세요.', 'instruction': '사용자의 1RM 정보를 바탕으로 기본적인 5/3/1 루틴을 생성하세요.'}\n"
     ]
    }
   ],
   "source": [
    "from dataset import process_data\n",
    "processed_data = process_data()\n",
    "print(processed_data['train'][0])"
   ]
  },
  {
   "cell_type": "code",
   "execution_count": null,
   "id": "480af901",
   "metadata": {},
   "outputs": [],
   "source": []
  }
 ],
 "metadata": {
  "kernelspec": {
   "display_name": "llm",
   "language": "python",
   "name": "python3"
  },
  "language_info": {
   "codemirror_mode": {
    "name": "ipython",
    "version": 3
   },
   "file_extension": ".py",
   "mimetype": "text/x-python",
   "name": "python",
   "nbconvert_exporter": "python",
   "pygments_lexer": "ipython3",
   "version": "3.11.7"
  }
 },
 "nbformat": 4,
 "nbformat_minor": 5
}
