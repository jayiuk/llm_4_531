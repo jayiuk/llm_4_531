{
 "cells": [
  {
   "cell_type": "code",
   "execution_count": 1,
   "id": "4ec61f3a",
   "metadata": {},
   "outputs": [
    {
     "data": {
      "text/plain": [
       "OrderedDict([('instruction', '사용자의 1RM 정보를 바탕으로 기본적인 5/3/1 루틴을 생성하세요.'),\n",
       "             ('input', '난 벤치 150 치는데 이거에 맞는 5/3/1 루틴 짜줘'),\n",
       "             ('output',\n",
       "              {'1주차': ['87.5kg X 5', '100.0kg X 5', '115.0kg X 5+'],\n",
       "               '2주차': ['95.0kg X 3', '107.5kg X 3', '122.5kg X 3+'],\n",
       "               '3주차': ['100.0kg X 5', '115.0kg X 3', '127.5kg X 1+'],\n",
       "               '4주차-deload': ['55.0kg X 5', '67.5kg X 5', '80.0kg X 5']})])"
      ]
     },
     "execution_count": 1,
     "metadata": {},
     "output_type": "execute_result"
    }
   ],
   "source": [
    "from getdata import get_data_531_basic\n",
    "input = \"난 벤치 150 치는데 이거에 맞는 5/3/1 루틴 짜줘\"\n",
    "routine = get_data_531_basic(input, 150)\n",
    "routine"
   ]
  },
  {
   "cell_type": "code",
   "execution_count": 1,
   "id": "443286db",
   "metadata": {},
   "outputs": [
    {
     "data": {
      "text/plain": [
       "OrderedDict([('instruction', '사용자의 1RM 정보를 바탕으로 기본적인 5/3/1 루틴을 생성하세요.'),\n",
       "             ('input', '난 벤치 150 치는데 이거에 맞는 5/3/1 루틴 짜줘'),\n",
       "             ('output',\n",
       "              {'1주차': ['57.5kg X 5',\n",
       "                '67.5kg X 5',\n",
       "                '77.5kg X 5+',\n",
       "                '117.5kg X 5',\n",
       "                '135.0kg X 5',\n",
       "                '152.5kg X 5+',\n",
       "                '87.5kg X 5',\n",
       "                '100.0kg X 5',\n",
       "                '115.0kg X 5+'],\n",
       "               '2주차': ['62.5kg X 3',\n",
       "                '72.5kg X 3',\n",
       "                '80.0kg X 3+',\n",
       "                '125.0kg X 3',\n",
       "                '145.0kg X 3',\n",
       "                '162.5kg X 3+',\n",
       "                '95.0kg X 3',\n",
       "                '107.5kg X 3',\n",
       "                '122.5kg X 3+'],\n",
       "               '3주차': ['67.5kg X 5',\n",
       "                '77.5kg X 3',\n",
       "                '85.0kg X 1+',\n",
       "                '135.0kg X 5',\n",
       "                '152.5kg X 3',\n",
       "                '170.0kg X 1+',\n",
       "                '100.0kg X 5',\n",
       "                '115.0kg X 3',\n",
       "                '127.5kg X 1+'],\n",
       "               '4주차-deload': ['35.0kg X 5',\n",
       "                '45.0kg X 5',\n",
       "                '55.0kg X 5',\n",
       "                '72.5kg X 5',\n",
       "                '90.0kg X 5',\n",
       "                '107.5kg X 5',\n",
       "                '55.0kg X 5',\n",
       "                '67.5kg X 5',\n",
       "                '80.0kg X 5']})])"
      ]
     },
     "execution_count": 1,
     "metadata": {},
     "output_type": "execute_result"
    }
   ],
   "source": [
    "rms = [100, 200, 150]\n",
    "from getdata import get_data_531_basic\n",
    "input = \"난 벤치 150 치는데 이거에 맞는 5/3/1 루틴 짜줘\"\n",
    "routine = get_data_531_basic(input, rms)\n",
    "routine"
   ]
  },
  {
   "cell_type": "code",
   "execution_count": 3,
   "id": "934c6419",
   "metadata": {},
   "outputs": [
    {
     "name": "stdout",
     "output_type": "stream",
     "text": [
      "OrderedDict([('instruction', '사용자의 1RM 정보를 바탕으로 기본적인 5/3/1 루틴을 생성하세요.'), ('input', '난 벤치 150 치는데 이거에 맞는 5/3/1 루틴 짜줘'), ('output', {'1주차': ['57.5kg X 5', '67.5kg X 5', '77.5kg X 5+', '117.5kg X 5', '135.0kg X 5', '152.5kg X 5+', '87.5kg X 5', '100.0kg X 5', '115.0kg X 5+'], '2주차': ['62.5kg X 3', '72.5kg X 3', '80.0kg X 3+', '125.0kg X 3', '145.0kg X 3', '162.5kg X 3+', '95.0kg X 3', '107.5kg X 3', '122.5kg X 3+'], '3주차': ['67.5kg X 5', '77.5kg X 3', '85.0kg X 1+', '135.0kg X 5', '152.5kg X 3', '170.0kg X 1+', '100.0kg X 5', '115.0kg X 3', '127.5kg X 1+'], '4주차-deload': ['35.0kg X 5', '45.0kg X 5', '55.0kg X 5', '72.5kg X 5', '90.0kg X 5', '107.5kg X 5', '55.0kg X 5', '67.5kg X 5', '80.0kg X 5']})])\n"
     ]
    }
   ],
   "source": [
    "print(routine)"
   ]
  },
  {
   "cell_type": "code",
   "execution_count": null,
   "id": "129ff2cf",
   "metadata": {},
   "outputs": [],
   "source": []
  }
 ],
 "metadata": {
  "kernelspec": {
   "display_name": "llm",
   "language": "python",
   "name": "python3"
  },
  "language_info": {
   "codemirror_mode": {
    "name": "ipython",
    "version": 3
   },
   "file_extension": ".py",
   "mimetype": "text/x-python",
   "name": "python",
   "nbconvert_exporter": "python",
   "pygments_lexer": "ipython3",
   "version": "3.11.7"
  }
 },
 "nbformat": 4,
 "nbformat_minor": 5
}
