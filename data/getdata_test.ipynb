{
 "cells": [
  {
   "cell_type": "code",
   "execution_count": 2,
   "id": "4ec61f3a",
   "metadata": {},
   "outputs": [
    {
     "data": {
      "text/plain": [
       "OrderedDict([('instruction', '사용자의 1RM 정보를 바탕으로 기본적인 5/3/1 루틴을 생성하세요.'),\n",
       "             ('input', '난 벤치 150 치는데 이거에 맞는 5/3/1 루틴 짜줘'),\n",
       "             ('output',\n",
       "              {'1주차': ['87.5kg X 5', '100.0kg X 5', '115.0kg X 5+'],\n",
       "               '2주차': ['95.0kg X 3', '107.5kg X 3', '122.5kg X 3+'],\n",
       "               '3주차': ['100.0kg X 5', '115.0kg X 3', '127.5kg X 1+'],\n",
       "               '4주차-deload': ['55.0kg X 5', '67.5kg X 5', '80.0kg X 5']})])"
      ]
     },
     "execution_count": 2,
     "metadata": {},
     "output_type": "execute_result"
    }
   ],
   "source": [
    "from getdata import get_data_531_basic\n",
    "input = \"난 벤치 150 치는데 이거에 맞는 5/3/1 루틴 짜줘\"\n",
    "pa = 'train_json01.json'\n",
    "routine = get_data_531_basic(prompt = input, rm = 150, path = pa)\n",
    "routine"
   ]
  },
  {
   "cell_type": "code",
   "execution_count": 4,
   "id": "443286db",
   "metadata": {},
   "outputs": [
    {
     "name": "stdout",
     "output_type": "stream",
     "text": [
      "어디선가 타입 에러 발생\n"
     ]
    },
    {
     "data": {
      "text/plain": [
       "OrderedDict([('instruction', '사용자의 1RM 정보를 바탕으로 기본적인 5/3/1 루틴을 생성하세요.'),\n",
       "             ('input', '난 벤치 150 치는데 이거에 맞는 5/3/1 루틴 짜줘'),\n",
       "             ('output',\n",
       "              {'1주차': ['57.5kg X 5',\n",
       "                '67.5kg X 5',\n",
       "                '77.5kg X 5+',\n",
       "                '117.5kg X 5',\n",
       "                '135.0kg X 5',\n",
       "                '152.5kg X 5+',\n",
       "                '87.5kg X 5',\n",
       "                '100.0kg X 5',\n",
       "                '115.0kg X 5+'],\n",
       "               '2주차': ['62.5kg X 3',\n",
       "                '72.5kg X 3',\n",
       "                '80.0kg X 3+',\n",
       "                '125.0kg X 3',\n",
       "                '145.0kg X 3',\n",
       "                '162.5kg X 3+',\n",
       "                '95.0kg X 3',\n",
       "                '107.5kg X 3',\n",
       "                '122.5kg X 3+'],\n",
       "               '3주차': ['67.5kg X 5',\n",
       "                '77.5kg X 3',\n",
       "                '85.0kg X 1+',\n",
       "                '135.0kg X 5',\n",
       "                '152.5kg X 3',\n",
       "                '170.0kg X 1+',\n",
       "                '100.0kg X 5',\n",
       "                '115.0kg X 3',\n",
       "                '127.5kg X 1+'],\n",
       "               '4주차-deload': ['35.0kg X 5',\n",
       "                '45.0kg X 5',\n",
       "                '55.0kg X 5',\n",
       "                '72.5kg X 5',\n",
       "                '90.0kg X 5',\n",
       "                '107.5kg X 5',\n",
       "                '55.0kg X 5',\n",
       "                '67.5kg X 5',\n",
       "                '80.0kg X 5']})])"
      ]
     },
     "execution_count": 4,
     "metadata": {},
     "output_type": "execute_result"
    }
   ],
   "source": [
    "rms = [100, 200, 150]\n",
    "from getdata import get_data_531_basic\n",
    "input = \"난 벤치 150 치는데 이거에 맞는 5/3/1 루틴 짜줘\"\n",
    "routine = get_data_531_basic(input, rms, path = pa)\n",
    "routine"
   ]
  },
  {
   "cell_type": "code",
   "execution_count": 2,
   "id": "934c6419",
   "metadata": {},
   "outputs": [
    {
     "ename": "NameError",
     "evalue": "name 'routine' is not defined",
     "output_type": "error",
     "traceback": [
      "\u001b[31m---------------------------------------------------------------------------\u001b[39m",
      "\u001b[31mNameError\u001b[39m                                 Traceback (most recent call last)",
      "\u001b[36mCell\u001b[39m\u001b[36m \u001b[39m\u001b[32mIn[2]\u001b[39m\u001b[32m, line 1\u001b[39m\n\u001b[32m----> \u001b[39m\u001b[32m1\u001b[39m \u001b[38;5;28mprint\u001b[39m(\u001b[43mroutine\u001b[49m)\n",
      "\u001b[31mNameError\u001b[39m: name 'routine' is not defined"
     ]
    }
   ],
   "source": [
    "print(routine)"
   ]
  },
  {
   "cell_type": "code",
   "execution_count": null,
   "id": "129ff2cf",
   "metadata": {},
   "outputs": [],
   "source": []
  }
 ],
 "metadata": {
  "kernelspec": {
   "display_name": "llm",
   "language": "python",
   "name": "python3"
  },
  "language_info": {
   "codemirror_mode": {
    "name": "ipython",
    "version": 3
   },
   "file_extension": ".py",
   "mimetype": "text/x-python",
   "name": "python",
   "nbconvert_exporter": "python",
   "pygments_lexer": "ipython3",
   "version": "3.11.7"
  }
 },
 "nbformat": 4,
 "nbformat_minor": 5
}
