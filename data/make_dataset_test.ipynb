{
 "cells": [
  {
   "cell_type": "code",
   "execution_count": 1,
   "id": "91f443ec",
   "metadata": {},
   "outputs": [],
   "source": [
    "from makedataset import make_tuning_dataset\n",
    "result = make_tuning_dataset(1, 10)"
   ]
  },
  {
   "cell_type": "code",
   "execution_count": 1,
   "id": "8d382720",
   "metadata": {},
   "outputs": [
    {
     "name": "stdout",
     "output_type": "stream",
     "text": [
      "어디선가 타입 에러 발생\n",
      "어디선가 타입 에러 발생\n",
      "어디선가 타입 에러 발생\n",
      "어디선가 타입 에러 발생\n",
      "어디선가 타입 에러 발생\n",
      "어디선가 타입 에러 발생\n",
      "어디선가 타입 에러 발생\n",
      "어디선가 타입 에러 발생\n",
      "어디선가 타입 에러 발생\n",
      "어디선가 타입 에러 발생\n"
     ]
    }
   ],
   "source": [
    "from makedataset import make_tuning_dataset_list\n",
    "result2 = make_tuning_dataset_list(1, 10)"
   ]
  },
  {
   "cell_type": "code",
   "execution_count": null,
   "id": "0ef0d1a7",
   "metadata": {},
   "outputs": [],
   "source": []
  }
 ],
 "metadata": {
  "kernelspec": {
   "display_name": "llm",
   "language": "python",
   "name": "python3"
  },
  "language_info": {
   "codemirror_mode": {
    "name": "ipython",
    "version": 3
   },
   "file_extension": ".py",
   "mimetype": "text/x-python",
   "name": "python",
   "nbconvert_exporter": "python",
   "pygments_lexer": "ipython3",
   "version": "3.11.7"
  }
 },
 "nbformat": 4,
 "nbformat_minor": 5
}
